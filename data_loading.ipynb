{
 "cells": [
  {
   "cell_type": "code",
   "execution_count": 1,
   "metadata": {},
   "outputs": [
    {
     "name": "stderr",
     "output_type": "stream",
     "text": [
      "/Users/leo/Desktop/programming/bp_classifier/env/lib/python3.9/site-packages/tqdm/auto.py:22: TqdmWarning: IProgress not found. Please update jupyter and ipywidgets. See https://ipywidgets.readthedocs.io/en/stable/user_install.html\n",
      "  from .autonotebook import tqdm as notebook_tqdm\n"
     ]
    }
   ],
   "source": [
    "import torch\n",
    "import torchvision\n",
    "import torchvision.transforms as transforms\n",
    "import torch.nn as nn"
   ]
  },
  {
   "cell_type": "code",
   "execution_count": null,
   "metadata": {},
   "outputs": [],
   "source": [
    "parameters = {\n",
    "    'learning_rate': 0.001,\n",
    "    'num_epochs': 30,\n",
    "    'batch_size': 32,\n",
    "    'image_size': 32,\n",
    "    'image_channels': 3,\n",
    "    'output_size': 10,\n",
    "    'num_layers': 'na',\n",
    "    'train_val_split': 0.90,\n",
    "    'device': 'mps',\n",
    "    'model_name': 'Basic MobileNetV3',\n",
    "    'criterion': 'CrossEntropyLoss',\n",
    "    'optimizer': 'Adam',\n",
    "    'dataset': 'CIFAR10',\n",
    "    'best_model_path': 'MN3Small.pt',\n",
    "}"
   ]
  },
  {
   "cell_type": "code",
   "execution_count": 2,
   "metadata": {},
   "outputs": [],
   "source": [
    "training_data = 'images'"
   ]
  },
  {
   "cell_type": "code",
   "execution_count": 3,
   "metadata": {},
   "outputs": [
    {
     "name": "stdout",
     "output_type": "stream",
     "text": [
      "5212\n"
     ]
    }
   ],
   "source": [
    "def load_dataset(data_path, batch_size=32, shuffle=True):\n",
    "    #load dataset\n",
    "    transformation = transforms.Compose([transforms.RandomHorizontalFlip(0.2),\n",
    "                                        transforms.RandomVerticalFlip(0.2),\n",
    "                                        transforms.RandomRotation(10),\n",
    "                                        transforms.ToTensor(),\n",
    "                                        transforms.Normalize((0.5, 0.5, 0.5), (0.5, 0.5, 0.5))])\n",
    "\n",
    "    full_dataset = torchvision.datasets.ImageFolder(root=data_path, transform=transformation)\n",
    "    print('Number of total images: {}'.format(len(full_dataset)))\n",
    "    #split dataset into training and validation\n",
    "    train_size = int(0.8 * len(full_dataset))\n",
    "    test_size = len(full_dataset) - train_size\n",
    "\n",
    "    train_dataset, test_dataset = torch.utils.data.random_split(full_dataset, [train_size, test_size])\n",
    "    print('Number of training images: {}'.format(len(train_dataset)))\n",
    "    print('Number of test images: {}'.format(len(test_dataset)))\n",
    "\n",
    "    #create dataloaders\n",
    "    train_loader = torch.utils.data.DataLoader(train_dataset, batch_size=32, shuffle=True)"
   ]
  },
  {
   "cell_type": "code",
   "execution_count": null,
   "metadata": {},
   "outputs": [],
   "source": []
  }
 ],
 "metadata": {
  "kernelspec": {
   "display_name": "env",
   "language": "python",
   "name": "python3"
  },
  "language_info": {
   "codemirror_mode": {
    "name": "ipython",
    "version": 3
   },
   "file_extension": ".py",
   "mimetype": "text/x-python",
   "name": "python",
   "nbconvert_exporter": "python",
   "pygments_lexer": "ipython3",
   "version": "3.9.10"
  },
  "orig_nbformat": 4,
  "vscode": {
   "interpreter": {
    "hash": "87b05828debb300a209253ec103fa105379d962da19ff6dc6c9415f115f2f596"
   }
  }
 },
 "nbformat": 4,
 "nbformat_minor": 2
}
